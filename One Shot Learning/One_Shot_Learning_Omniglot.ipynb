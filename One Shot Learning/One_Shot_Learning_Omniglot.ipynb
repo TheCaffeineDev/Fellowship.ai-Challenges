{
  "nbformat": 4,
  "nbformat_minor": 0,
  "metadata": {
    "colab": {
      "name": "One Shot Learning - Omniglot.ipynb",
      "version": "0.3.2",
      "provenance": [],
      "toc_visible": true
    },
    "kernelspec": {
      "name": "python3",
      "display_name": "Python 3"
    },
    "accelerator": "GPU"
  },
  "cells": [
    {
      "cell_type": "markdown",
      "metadata": {
        "id": "m1aFzOgYRBo0",
        "colab_type": "text"
      },
      "source": [
        "# Fellowship.ai Challange\n",
        "##  One Shot Learning - Omniglot.ipynb\n",
        "\n",
        "It uses the Omniglot dataset which contains 1623 handwritten characters from 50 different alphabets with 20 examples for each alphabet.\n",
        "\n",
        "We will use two files from the dataset. They can be found by the following two links. \n",
        "\n",
        "* https://github.com/brendenlake/omniglot/blob/master/python/images_background.zip \n",
        "*  https://github.com/brendenlake/omniglot/blob/master/python/images_evaluation.zip"
      ]
    },
    {
      "cell_type": "code",
      "metadata": {
        "id": "0iNZWow0RFks",
        "colab_type": "code",
        "colab": {
          "resources": {
            "http://localhost:8080/nbextensions/google.colab/files.js": {
              "data": "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",
              "ok": true,
              "headers": [
                [
                  "content-type",
                  "application/javascript"
                ]
              ],
              "status": 200,
              "status_text": ""
            }
          },
          "base_uri": "https://localhost:8080/",
          "height": 74
        },
        "outputId": "057631d8-b8e2-4003-b38f-1f26468f601e"
      },
      "source": [
        "# Upload the dataset\n",
        "from google.colab import files\n",
        "\n",
        "uploaded = files.upload()\n"
      ],
      "execution_count": 1,
      "outputs": [
        {
          "output_type": "display_data",
          "data": {
            "text/html": [
              "\n",
              "     <input type=\"file\" id=\"files-798b0db0-2e2a-4d15-8b24-31bf5655bcca\" name=\"files[]\" multiple disabled />\n",
              "     <output id=\"result-798b0db0-2e2a-4d15-8b24-31bf5655bcca\">\n",
              "      Upload widget is only available when the cell has been executed in the\n",
              "      current browser session. Please rerun this cell to enable.\n",
              "      </output>\n",
              "      <script src=\"/nbextensions/google.colab/files.js\"></script> "
            ],
            "text/plain": [
              "<IPython.core.display.HTML object>"
            ]
          },
          "metadata": {
            "tags": []
          }
        },
        {
          "output_type": "stream",
          "text": [
            "Saving images_background.zip to images_background.zip\n"
          ],
          "name": "stdout"
        }
      ]
    },
    {
      "cell_type": "code",
      "metadata": {
        "id": "ePtTolphRjIz",
        "colab_type": "code",
        "colab": {
          "resources": {
            "http://localhost:8080/nbextensions/google.colab/files.js": {
              "data": "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",
              "ok": true,
              "headers": [
                [
                  "content-type",
                  "application/javascript"
                ]
              ],
              "status": 200,
              "status_text": ""
            }
          },
          "base_uri": "https://localhost:8080/",
          "height": 74
        },
        "outputId": "8febdf70-5b54-4b90-84ab-f904e994169b"
      },
      "source": [
        "ev_uploaded = files.upload()"
      ],
      "execution_count": 2,
      "outputs": [
        {
          "output_type": "display_data",
          "data": {
            "text/html": [
              "\n",
              "     <input type=\"file\" id=\"files-d03b3cb2-7169-42d0-8fb5-4270882ee7f3\" name=\"files[]\" multiple disabled />\n",
              "     <output id=\"result-d03b3cb2-7169-42d0-8fb5-4270882ee7f3\">\n",
              "      Upload widget is only available when the cell has been executed in the\n",
              "      current browser session. Please rerun this cell to enable.\n",
              "      </output>\n",
              "      <script src=\"/nbextensions/google.colab/files.js\"></script> "
            ],
            "text/plain": [
              "<IPython.core.display.HTML object>"
            ]
          },
          "metadata": {
            "tags": []
          }
        },
        {
          "output_type": "stream",
          "text": [
            "Saving images_evaluation.zip to images_evaluation.zip\n"
          ],
          "name": "stdout"
        }
      ]
    },
    {
      "cell_type": "markdown",
      "metadata": {
        "id": "4LuSoeekVBzj",
        "colab_type": "text"
      },
      "source": [
        "## Import necessary packages"
      ]
    },
    {
      "cell_type": "code",
      "metadata": {
        "id": "A1ibJSFoTzcJ",
        "colab_type": "code",
        "colab": {}
      },
      "source": [
        "\n",
        "import numpy.random as rng\n",
        "import numpy as np\n",
        "import os\n",
        "import dill as pickle\n",
        "import matplotlib.pyplot as plt\n",
        "from sklearn.utils import shuffle\n",
        "import cv2\n",
        "import time\n",
        "\n",
        "from keras.layers import Input, Conv2D, Lambda, merge, Dense, Flatten, MaxPooling2D, Dropout\n",
        "from keras.models import Model, Sequential\n",
        "from keras.regularizers import l2\n",
        "from keras import backend as K\n",
        "from keras.optimizers import SGD,Adam\n",
        "from keras.losses import binary_crossentropy\n",
        "\n",
        "%matplotlib inline"
      ],
      "execution_count": 0,
      "outputs": []
    },
    {
      "cell_type": "code",
      "metadata": {
        "id": "T41r0pzhVFns",
        "colab_type": "code",
        "colab": {}
      },
      "source": [
        ""
      ],
      "execution_count": 0,
      "outputs": []
    },
    {
      "cell_type": "markdown",
      "metadata": {
        "id": "N4I5JfNRXzEq",
        "colab_type": "text"
      },
      "source": [
        "## Unzip & Load the dataset"
      ]
    },
    {
      "cell_type": "code",
      "metadata": {
        "id": "eoq6AoffX2VW",
        "colab_type": "code",
        "colab": {}
      },
      "source": [
        "!unzip 'images_background.zip'"
      ],
      "execution_count": 0,
      "outputs": []
    },
    {
      "cell_type": "code",
      "metadata": {
        "id": "pjlOeUZSYAYK",
        "colab_type": "code",
        "colab": {}
      },
      "source": [
        "!unzip 'images_evaluation.zip'"
      ],
      "execution_count": 0,
      "outputs": []
    },
    {
      "cell_type": "code",
      "metadata": {
        "id": "MvnmN62iYVUr",
        "colab_type": "code",
        "colab": {}
      },
      "source": [
        "!mkdir save_data\n",
        "!mkdir weights"
      ],
      "execution_count": 0,
      "outputs": []
    },
    {
      "cell_type": "code",
      "metadata": {
        "id": "lHPVdx5dYoa1",
        "colab_type": "code",
        "colab": {}
      },
      "source": [
        "def loadimgs(path, n=0):\n",
        "    '''\n",
        "    path => Path of train directory or test directory\n",
        "    '''\n",
        "    X=[]\n",
        "    y = []\n",
        "    cat_dict = {}\n",
        "    lang_dict = {}\n",
        "    curr_y = n\n",
        "    \n",
        "    # we load every alphabet seperately so we can isolate them later\n",
        "    for alphabet in os.listdir(path):\n",
        "        print(\"loading alphabet: \" + alphabet)\n",
        "        lang_dict[alphabet] = [curr_y,None]\n",
        "        alphabet_path = os.path.join(path,alphabet)\n",
        "        \n",
        "        # every letter/category has it's own column in the array, so  load seperately\n",
        "        for letter in os.listdir(alphabet_path):\n",
        "            cat_dict[curr_y] = (alphabet, letter)\n",
        "            category_images=[]\n",
        "            letter_path = os.path.join(alphabet_path, letter)\n",
        "            \n",
        "            # read all the images in the current category\n",
        "            for filename in os.listdir(letter_path):\n",
        "                image_path = os.path.join(letter_path, filename)\n",
        "                image = cv2.imread(image_path, cv2.IMREAD_GRAYSCALE)\n",
        "                category_images.append(image)\n",
        "                y.append(curr_y)\n",
        "            try:\n",
        "                X.append(np.stack(category_images))\n",
        "            # edge case  - last one\n",
        "            except ValueError as e:\n",
        "                print(e)\n",
        "                print(\"error - category_images:\", category_images)\n",
        "            curr_y += 1\n",
        "            lang_dict[alphabet][1] = curr_y - 1\n",
        "            \n",
        "    y = np.vstack(y)\n",
        "    X = np.stack(X)\n",
        "    return X, y, lang_dict"
      ],
      "execution_count": 0,
      "outputs": []
    },
    {
      "cell_type": "code",
      "metadata": {
        "id": "HdviAcTGYrxt",
        "colab_type": "code",
        "colab": {}
      },
      "source": [
        ""
      ],
      "execution_count": 0,
      "outputs": []
    },
    {
      "cell_type": "code",
      "metadata": {
        "id": "Tmu7s7fiYwvr",
        "colab_type": "code",
        "colab": {}
      },
      "source": [
        "train_folder = 'images_background'\n",
        "valid_folder = 'images_evaluation'\n",
        "save_path = 'save_data'\n",
        "model_path = 'weights'"
      ],
      "execution_count": 0,
      "outputs": []
    },
    {
      "cell_type": "code",
      "metadata": {
        "id": "NBKaUF_wagEv",
        "colab_type": "code",
        "colab": {
          "base_uri": "https://localhost:8080/",
          "height": 567
        },
        "outputId": "476d8a23-ca14-4187-aed6-d6911381ae96"
      },
      "source": [
        "\n",
        "X, y, c = loadimgs(train_folder)\n",
        "X.shape, y.shape"
      ],
      "execution_count": 35,
      "outputs": [
        {
          "output_type": "stream",
          "text": [
            "loading alphabet: Anglo-Saxon_Futhorc\n",
            "loading alphabet: Bengali\n",
            "loading alphabet: Greek\n",
            "loading alphabet: Burmese_(Myanmar)\n",
            "loading alphabet: Early_Aramaic\n",
            "loading alphabet: Asomtavruli_(Georgian)\n",
            "loading alphabet: Futurama\n",
            "loading alphabet: Japanese_(hiragana)\n",
            "loading alphabet: Sanskrit\n",
            "loading alphabet: Balinese\n",
            "loading alphabet: Latin\n",
            "loading alphabet: Tifinagh\n",
            "loading alphabet: Blackfoot_(Canadian_Aboriginal_Syllabics)\n",
            "loading alphabet: Cyrillic\n",
            "loading alphabet: Alphabet_of_the_Magi\n",
            "loading alphabet: Hebrew\n",
            "loading alphabet: Mkhedruli_(Georgian)\n",
            "loading alphabet: Gujarati\n",
            "loading alphabet: Syriac_(Estrangelo)\n",
            "loading alphabet: Malay_(Jawi_-_Arabic)\n",
            "loading alphabet: N_Ko\n",
            "loading alphabet: Inuktitut_(Canadian_Aboriginal_Syllabics)\n",
            "loading alphabet: Armenian\n",
            "loading alphabet: Korean\n",
            "loading alphabet: Grantha\n",
            "loading alphabet: Tagalog\n",
            "loading alphabet: Braille\n",
            "loading alphabet: Ojibwe_(Canadian_Aboriginal_Syllabics)\n",
            "loading alphabet: Arcadian\n",
            "loading alphabet: Japanese_(katakana)\n"
          ],
          "name": "stdout"
        },
        {
          "output_type": "execute_result",
          "data": {
            "text/plain": [
              "((964, 20, 105, 105), (19280, 1))"
            ]
          },
          "metadata": {
            "tags": []
          },
          "execution_count": 35
        }
      ]
    },
    {
      "cell_type": "code",
      "metadata": {
        "id": "zrijPxZQeDFN",
        "colab_type": "code",
        "colab": {
          "base_uri": "https://localhost:8080/",
          "height": 54
        },
        "outputId": "fc53778d-316f-4208-a512-35356489dd09"
      },
      "source": [
        "c.keys()"
      ],
      "execution_count": 36,
      "outputs": [
        {
          "output_type": "execute_result",
          "data": {
            "text/plain": [
              "dict_keys(['Anglo-Saxon_Futhorc', 'Bengali', 'Greek', 'Burmese_(Myanmar)', 'Early_Aramaic', 'Asomtavruli_(Georgian)', 'Futurama', 'Japanese_(hiragana)', 'Sanskrit', 'Balinese', 'Latin', 'Tifinagh', 'Blackfoot_(Canadian_Aboriginal_Syllabics)', 'Cyrillic', 'Alphabet_of_the_Magi', 'Hebrew', 'Mkhedruli_(Georgian)', 'Gujarati', 'Syriac_(Estrangelo)', 'Malay_(Jawi_-_Arabic)', 'N_Ko', 'Inuktitut_(Canadian_Aboriginal_Syllabics)', 'Armenian', 'Korean', 'Grantha', 'Tagalog', 'Braille', 'Ojibwe_(Canadian_Aboriginal_Syllabics)', 'Arcadian', 'Japanese_(katakana)'])"
            ]
          },
          "metadata": {
            "tags": []
          },
          "execution_count": 36
        }
      ]
    },
    {
      "cell_type": "code",
      "metadata": {
        "id": "-MOgIa3veGSh",
        "colab_type": "code",
        "colab": {
          "base_uri": "https://localhost:8080/",
          "height": 34
        },
        "outputId": "4f770379-926f-4e18-e545-b0e24098c3a2"
      },
      "source": [
        "\n",
        "c['Bengali'], c['Gujarati']"
      ],
      "execution_count": 37,
      "outputs": [
        {
          "output_type": "execute_result",
          "data": {
            "text/plain": [
              "([29, 74], [550, 597])"
            ]
          },
          "metadata": {
            "tags": []
          },
          "execution_count": 37
        }
      ]
    },
    {
      "cell_type": "code",
      "metadata": {
        "id": "VTzh29RdeIe1",
        "colab_type": "code",
        "colab": {
          "base_uri": "https://localhost:8080/",
          "height": 390
        },
        "outputId": "33d84643-c0a9-4bb3-a69c-09aeb72099a5"
      },
      "source": [
        "X_val, y_val, c_val=loadimgs(valid_folder)\n",
        "X_val.shape, y_val.shape"
      ],
      "execution_count": 38,
      "outputs": [
        {
          "output_type": "stream",
          "text": [
            "loading alphabet: Tibetan\n",
            "loading alphabet: Malayalam\n",
            "loading alphabet: Tengwar\n",
            "loading alphabet: Old_Church_Slavonic_(Cyrillic)\n",
            "loading alphabet: Glagolitic\n",
            "loading alphabet: Gurmukhi\n",
            "loading alphabet: Kannada\n",
            "loading alphabet: Sylheti\n",
            "loading alphabet: Keble\n",
            "loading alphabet: Mongolian\n",
            "loading alphabet: Manipuri\n",
            "loading alphabet: Angelic\n",
            "loading alphabet: Oriya\n",
            "loading alphabet: Syriac_(Serto)\n",
            "loading alphabet: ULOG\n",
            "loading alphabet: Atemayar_Qelisayer\n",
            "loading alphabet: Aurek-Besh\n",
            "loading alphabet: Avesta\n",
            "loading alphabet: Atlantean\n",
            "loading alphabet: Ge_ez\n"
          ],
          "name": "stdout"
        },
        {
          "output_type": "execute_result",
          "data": {
            "text/plain": [
              "((659, 20, 105, 105), (13180, 1))"
            ]
          },
          "metadata": {
            "tags": []
          },
          "execution_count": 38
        }
      ]
    },
    {
      "cell_type": "code",
      "metadata": {
        "id": "fbcQpnCqeLC8",
        "colab_type": "code",
        "colab": {}
      },
      "source": [
        "import pickle\n",
        "\n",
        "with open(os.path.join(save_path,\"train.pickle\"), \"wb\") as f:\n",
        "    pickle.dump((X,c), f)\n",
        "    \n",
        "with open(os.path.join(save_path,\"val.pickle\"), \"wb\") as f:\n",
        "    pickle.dump((X_val,c_val), f)"
      ],
      "execution_count": 0,
      "outputs": []
    },
    {
      "cell_type": "code",
      "metadata": {
        "id": "pox0w_HAePYM",
        "colab_type": "code",
        "colab": {}
      },
      "source": [
        ""
      ],
      "execution_count": 0,
      "outputs": []
    },
    {
      "cell_type": "markdown",
      "metadata": {
        "id": "wTv4wVMsed7a",
        "colab_type": "text"
      },
      "source": [
        "## Loading the train and validation tensors"
      ]
    },
    {
      "cell_type": "code",
      "metadata": {
        "id": "LNIN1GCdefJK",
        "colab_type": "code",
        "colab": {
          "base_uri": "https://localhost:8080/",
          "height": 196
        },
        "outputId": "b5784d59-3357-46f9-aca8-c8e012b5c590"
      },
      "source": [
        "with open(os.path.join(save_path, \"train.pickle\"), \"rb\") as f:\n",
        "    (X_train, train_classes) = pickle.load(f)\n",
        "    \n",
        "print(\"Training alphabets: \\n\")\n",
        "print(list(train_classes.keys()))\n",
        "\n",
        "\n",
        "with open(os.path.join(save_path, \"val.pickle\"), \"rb\") as f:\n",
        "    (X_val, val_classes) = pickle.load(f)\n",
        "\n",
        "print(\"\\n\\n\\nValidation alphabets: \\n\")\n",
        "print(list(val_classes.keys()))"
      ],
      "execution_count": 40,
      "outputs": [
        {
          "output_type": "stream",
          "text": [
            "Training alphabets: \n",
            "\n",
            "['Anglo-Saxon_Futhorc', 'Bengali', 'Greek', 'Burmese_(Myanmar)', 'Early_Aramaic', 'Asomtavruli_(Georgian)', 'Futurama', 'Japanese_(hiragana)', 'Sanskrit', 'Balinese', 'Latin', 'Tifinagh', 'Blackfoot_(Canadian_Aboriginal_Syllabics)', 'Cyrillic', 'Alphabet_of_the_Magi', 'Hebrew', 'Mkhedruli_(Georgian)', 'Gujarati', 'Syriac_(Estrangelo)', 'Malay_(Jawi_-_Arabic)', 'N_Ko', 'Inuktitut_(Canadian_Aboriginal_Syllabics)', 'Armenian', 'Korean', 'Grantha', 'Tagalog', 'Braille', 'Ojibwe_(Canadian_Aboriginal_Syllabics)', 'Arcadian', 'Japanese_(katakana)']\n",
            "\n",
            "\n",
            "\n",
            "Validation alphabets: \n",
            "\n",
            "['Tibetan', 'Malayalam', 'Tengwar', 'Old_Church_Slavonic_(Cyrillic)', 'Glagolitic', 'Gurmukhi', 'Kannada', 'Sylheti', 'Keble', 'Mongolian', 'Manipuri', 'Angelic', 'Oriya', 'Syriac_(Serto)', 'ULOG', 'Atemayar_Qelisayer', 'Aurek-Besh', 'Avesta', 'Atlantean', 'Ge_ez']\n"
          ],
          "name": "stdout"
        }
      ]
    },
    {
      "cell_type": "code",
      "metadata": {
        "id": "ZfhXna44eh1u",
        "colab_type": "code",
        "colab": {}
      },
      "source": [
        "def get_batch(batch_size,s=\"train\"):\n",
        "    \"\"\"\n",
        "    Create batch of n pairs, half same class, half different class\n",
        "    \"\"\"\n",
        "    if s == 'train':\n",
        "        X = X_train\n",
        "        categories = train_classes\n",
        "    else:\n",
        "        X = X_val\n",
        "        categories = val_classes\n",
        "    n_classes, n_examples, w, h = X.shape\n",
        "    # randomly sample several classes to use in the batch\n",
        "    categories = rng.choice(n_classes,size=(batch_size,),replace=False)\n",
        "    \n",
        "    # initialize 2 empty arrays for the input image batch\n",
        "    pairs=[np.zeros((batch_size, h, w,1)) for i in range(2)]\n",
        "    \n",
        "    # initialize vector for the targets\n",
        "    targets=np.zeros((batch_size,))\n",
        "    \n",
        "    # make one half of it '1's, so 2nd half of batch has same class\n",
        "    targets[batch_size//2:] = 1\n",
        "    for i in range(batch_size):\n",
        "        category = categories[i]\n",
        "        idx_1 = rng.randint(0, n_examples)\n",
        "        pairs[0][i,:,:,:] = X[category, idx_1].reshape(w, h, 1)\n",
        "        idx_2 = rng.randint(0, n_examples)\n",
        "        \n",
        "        # pick images of same class for 1st half, different for 2nd\n",
        "        if i >= batch_size // 2:\n",
        "            category_2 = category  \n",
        "        else: \n",
        "            # add a random number to the category modulo n classes to ensure 2nd image has a different category\n",
        "            category_2 = (category + rng.randint(1,n_classes)) % n_classes\n",
        "        \n",
        "        pairs[1][i,:,:,:] = X[category_2,idx_2].reshape(w, h,1)\n",
        "    \n",
        "    return pairs, targets\n",
        "  \n",
        "def generate(batch_size, s=\"train\"):\n",
        "    \"\"\"\n",
        "    a generator for batches, so model.fit_generator can be used.\n",
        "    \"\"\"\n",
        "    while True:\n",
        "        pairs, targets = get_batch(batch_size, s)\n",
        "        yield (pairs, targets)"
      ],
      "execution_count": 0,
      "outputs": []
    },
    {
      "cell_type": "code",
      "metadata": {
        "id": "6bxJ9ZjretKo",
        "colab_type": "code",
        "colab": {}
      },
      "source": [
        "def make_oneshot_task(N, s=\"val\", language=None):\n",
        "    \"\"\"Create pairs of test image, support set for testing N way one-shot learning. \"\"\"\n",
        "    if s == 'train':\n",
        "        X = X_train\n",
        "        categories = train_classes\n",
        "    else:\n",
        "        X = X_val\n",
        "        categories = val_classes\n",
        "    n_classes, n_examples, w, h = X.shape\n",
        "    \n",
        "    indices = rng.randint(0, n_examples,size=(N,))\n",
        "    if language is not None: # if language is specified, select characters for that language\n",
        "        low, high = categories[language]\n",
        "        if N > high - low:\n",
        "            raise ValueError(\"This language ({}) has less than {} letters\".format(language, N))\n",
        "        categories = rng.choice(range(low,high),size=(N,),replace=False)\n",
        "    else: # if no language specified just pick a bunch of random letters\n",
        "        categories = rng.choice(range(n_classes),size=(N,),replace=False)            \n",
        "    \n",
        "    true_category = categories[0]\n",
        "    ex1, ex2 = rng.choice(n_examples,replace=False,size=(2,))\n",
        "    test_image = np.asarray([X[true_category,ex1,:,:]]*N).reshape(N, w, h,1)\n",
        "    support_set = X[categories,indices,:,:]\n",
        "    support_set[0,:,:] = X[true_category,ex2]\n",
        "    support_set = support_set.reshape(N, w, h,1)\n",
        "    targets = np.zeros((N,))\n",
        "    targets[0] = 1\n",
        "    targets, test_image, support_set = shuffle(targets, test_image, support_set)\n",
        "    pairs = [test_image,support_set]\n",
        "        \n",
        "    return pairs, targets\n",
        "  \n",
        "def test_oneshot(model, N, k, s = \"val\", verbose = 0):\n",
        "    \"\"\"Test average N way oneshot learning accuracy of a siamese neural net over k one-shot tasks\"\"\"\n",
        "    n_correct = 0\n",
        "    if verbose:\n",
        "        print(\"Evaluating model on {} random {} way one-shot learning tasks ... \".format(k,N))\n",
        "    for i in range(k):\n",
        "        inputs, targets = make_oneshot_task(N,s)\n",
        "        probs = model.predict(inputs)\n",
        "        if np.argmax(probs) == np.argmax(targets):\n",
        "            n_correct+=1\n",
        "    percent_correct = (100.0 * n_correct / k)\n",
        "    if verbose:\n",
        "        print(\"Got an average of {}% {} way one-shot learning accuracy \\n\".format(percent_correct,N))\n",
        "        \n",
        "    return percent_correct"
      ],
      "execution_count": 0,
      "outputs": []
    },
    {
      "cell_type": "code",
      "metadata": {
        "id": "mjaXjDwSe4ev",
        "colab_type": "code",
        "colab": {}
      },
      "source": [
        "def W_init(shape,name=None):\n",
        "    \"\"\"Initialize weights as in paper\"\"\"\n",
        "    values = rng.normal(loc=0,scale=1e-2,size=shape)\n",
        "    return K.variable(values,name=name)\n",
        "\n",
        "def b_init(shape,name=None):\n",
        "    \"\"\"Initialize bias as in paper\"\"\"\n",
        "    values=rng.normal(loc=0.5,scale=1e-2,size=shape)\n",
        "    return K.variable(values,name=name)"
      ],
      "execution_count": 0,
      "outputs": []
    },
    {
      "cell_type": "code",
      "metadata": {
        "id": "oFtb1wxAe7lJ",
        "colab_type": "code",
        "colab": {}
      },
      "source": [
        ""
      ],
      "execution_count": 0,
      "outputs": []
    },
    {
      "cell_type": "markdown",
      "metadata": {
        "id": "EYHONlR0e_Xi",
        "colab_type": "text"
      },
      "source": [
        "## Model"
      ]
    },
    {
      "cell_type": "code",
      "metadata": {
        "id": "iFmLmiijfAiB",
        "colab_type": "code",
        "colab": {}
      },
      "source": [
        "def model(input_shape=(105, 105, 1)):\n",
        "    left_input = Input(input_shape)\n",
        "    right_input = Input(input_shape)\n",
        "    \n",
        "    # build convnet to use in each siamese 'leg'\n",
        "    convnet = Sequential()\n",
        "    convnet.add(Conv2D(64,(10,10),activation='relu',input_shape=input_shape,\n",
        "                       kernel_initializer=W_init,kernel_regularizer=l2(2e-4)))\n",
        "    convnet.add(MaxPooling2D())\n",
        "    convnet.add(Dropout(0.2))\n",
        "    \n",
        "    convnet.add(Conv2D(128,(7,7),activation='relu',\n",
        "                       kernel_regularizer=l2(2e-4),kernel_initializer=W_init,bias_initializer=b_init))\n",
        "    convnet.add(MaxPooling2D())\n",
        "    convnet.add(Dropout(0.2))\n",
        "    \n",
        "    convnet.add(Conv2D(128,(4,4),activation='relu',kernel_initializer=W_init,kernel_regularizer=l2(2e-4),bias_initializer=b_init))\n",
        "    convnet.add(MaxPooling2D())\n",
        "    convnet.add(Dropout(0.2))\n",
        "    \n",
        "    convnet.add(Conv2D(256,(4,4),activation='relu',kernel_initializer=W_init,kernel_regularizer=l2(2e-4),bias_initializer=b_init))\n",
        "    convnet.add(Flatten())\n",
        "    convnet.add(Dense(4096,activation=\"sigmoid\",kernel_regularizer=l2(1e-3),kernel_initializer=W_init,bias_initializer=b_init))\n",
        "    \n",
        "    # encode each of the two inputs into a vector with the convnet\n",
        "    encoded_l = convnet(left_input)\n",
        "    encoded_r = convnet(right_input)\n",
        "    \n",
        "    # merge two encoded inputs with the l1 distance between them\n",
        "    L1_layer = Lambda(lambda tensors:K.abs(tensors[0] - tensors[1]))\n",
        "    L1_distance = L1_layer([encoded_l, encoded_r])\n",
        "    prediction = Dense(1,activation='sigmoid',bias_initializer=b_init)(L1_distance)\n",
        "    \n",
        "    siamese_net = Model(inputs=[left_input, right_input], outputs=prediction)\n",
        "    # optimizer = SGD(0.0004,momentum=0.6,nesterov=True,decay=0.0003)\n",
        "    optimizer = Adam(0.0001)\n",
        "    # get layerwise learning rates and momentum annealing scheme described in paperworking\n",
        "    siamese_net.compile(loss=\"binary_crossentropy\", optimizer=optimizer)\n",
        "    \n",
        "    return siamese_net\n",
        "\n"
      ],
      "execution_count": 0,
      "outputs": []
    },
    {
      "cell_type": "code",
      "metadata": {
        "id": "OWRReRCSfOpj",
        "colab_type": "code",
        "colab": {
          "base_uri": "https://localhost:8080/",
          "height": 481
        },
        "outputId": "7a271344-b7d5-46f4-b27e-24a44cfd574e"
      },
      "source": [
        "model = model()\n",
        "model.summary()"
      ],
      "execution_count": 45,
      "outputs": [
        {
          "output_type": "stream",
          "text": [
            "WARNING:tensorflow:From /usr/local/lib/python3.6/dist-packages/tensorflow/python/framework/op_def_library.py:263: colocate_with (from tensorflow.python.framework.ops) is deprecated and will be removed in a future version.\n",
            "Instructions for updating:\n",
            "Colocations handled automatically by placer.\n",
            "WARNING:tensorflow:From /usr/local/lib/python3.6/dist-packages/keras/backend/tensorflow_backend.py:3445: calling dropout (from tensorflow.python.ops.nn_ops) with keep_prob is deprecated and will be removed in a future version.\n",
            "Instructions for updating:\n",
            "Please use `rate` instead of `keep_prob`. Rate should be set to `rate = 1 - keep_prob`.\n",
            "__________________________________________________________________________________________________\n",
            "Layer (type)                    Output Shape         Param #     Connected to                     \n",
            "==================================================================================================\n",
            "input_1 (InputLayer)            (None, 105, 105, 1)  0                                            \n",
            "__________________________________________________________________________________________________\n",
            "input_2 (InputLayer)            (None, 105, 105, 1)  0                                            \n",
            "__________________________________________________________________________________________________\n",
            "sequential_1 (Sequential)       (None, 4096)         38947648    input_1[0][0]                    \n",
            "                                                                 input_2[0][0]                    \n",
            "__________________________________________________________________________________________________\n",
            "lambda_1 (Lambda)               (None, 4096)         0           sequential_1[1][0]               \n",
            "                                                                 sequential_1[2][0]               \n",
            "__________________________________________________________________________________________________\n",
            "dense_2 (Dense)                 (None, 1)            4097        lambda_1[0][0]                   \n",
            "==================================================================================================\n",
            "Total params: 38,951,745\n",
            "Trainable params: 38,951,745\n",
            "Non-trainable params: 0\n",
            "__________________________________________________________________________________________________\n"
          ],
          "name": "stdout"
        }
      ]
    },
    {
      "cell_type": "code",
      "metadata": {
        "id": "UY4_AdlufR43",
        "colab_type": "code",
        "colab": {
          "base_uri": "https://localhost:8080/",
          "height": 422
        },
        "outputId": "e4504531-1be0-4ef9-f296-b4c891132022"
      },
      "source": [
        "from keras.utils import plot_model\n",
        "import IPython\n",
        "\n",
        "plot_model(model, show_shapes=True, show_layer_names=True)\n",
        "IPython.display.Image('model.png')"
      ],
      "execution_count": 46,
      "outputs": [
        {
          "output_type": "execute_result",
          "data": {
            "image/png": "[encoded data removed]",
            "text/plain": [
              "<IPython.core.display.Image object>"
            ]
          },
          "metadata": {
            "tags": []
          },
          "execution_count": 46
        }
      ]
    },
    {
      "cell_type": "code",
      "metadata": {
        "id": "d6bqRwJafUrh",
        "colab_type": "code",
        "colab": {}
      },
      "source": [
        "\n",
        "def training_starts(evaluate_every=250, batch_size=32, n_iter=10000, N_way=20, n_val=250):\n",
        "    '''\n",
        "    Hyper parameters\n",
        "    \n",
        "    evaluate_every : interval for evaluating on one-shot tasks\n",
        "    batch_size : batch size\n",
        "    n_iter : No. of training iterations\n",
        "    N_way : how many classes for testing one-shot tasks\n",
        "    n_val : how many one-shot tasks to validate on\n",
        "    '''\n",
        "    \n",
        "    print(\"Starting training process!\")\n",
        "    print(\"-------------------------------------\")\n",
        "    best = -1\n",
        "    t_start = time.time()\n",
        "    \n",
        "    for i in range(1, n_iter+1):\n",
        "        (inputs, targets) = get_batch(batch_size)\n",
        "        loss = model.train_on_batch(inputs, targets)\n",
        "        \n",
        "        if i % evaluate_every == 0:\n",
        "            print(\"\\n ------------- \\n\")\n",
        "            print(\"Time for {0} iterations: {1} mins\".format(i, (time.time()-t_start)/60.0))\n",
        "            print(\"Train Loss: {0}\".format(loss)) \n",
        "            val_acc = test_oneshot(model, N_way, n_val, verbose=True)\n",
        "            \n",
        "            if val_acc >= best:\n",
        "                print(\"Current best: {0}, previous best: {1}\".format(val_acc, best))\n",
        "                model.save_weights(os.path.join(model_path, 'weights.{}.h5'.format(val_acc)))\n",
        "                best = val_acc\n",
        "                \n",
        "    print(\"-------------------------------------\")"
      ],
      "execution_count": 0,
      "outputs": []
    },
    {
      "cell_type": "code",
      "metadata": {
        "id": "f83dCHzlfZNi",
        "colab_type": "code",
        "colab": {
          "base_uri": "https://localhost:8080/",
          "height": 6063
        },
        "outputId": "d99172cc-430a-4f03-ae84-596097426f19"
      },
      "source": [
        "%%time\n",
        "\n",
        "training_starts()"
      ],
      "execution_count": 48,
      "outputs": [
        {
          "output_type": "stream",
          "text": [
            "Starting training process!\n",
            "-------------------------------------\n",
            "WARNING:tensorflow:From /usr/local/lib/python3.6/dist-packages/tensorflow/python/ops/math_ops.py:3066: to_int32 (from tensorflow.python.ops.math_ops) is deprecated and will be removed in a future version.\n",
            "Instructions for updating:\n",
            "Use tf.cast instead.\n",
            "\n",
            " ------------- \n",
            "\n",
            "Time for 250 iterations: 0.9594136635462444 mins\n",
            "Train Loss: 2.207240343093872\n",
            "Evaluating model on 250 random 20 way one-shot learning tasks ... \n",
            "Got an average of 29.2% 20 way one-shot learning accuracy \n",
            "\n",
            "Current best: 29.2, previous best: -1\n",
            "\n",
            " ------------- \n",
            "\n",
            "Time for 500 iterations: 1.9148732741673788 mins\n",
            "Train Loss: 1.5451680421829224\n",
            "Evaluating model on 250 random 20 way one-shot learning tasks ... \n",
            "Got an average of 35.2% 20 way one-shot learning accuracy \n",
            "\n",
            "Current best: 35.2, previous best: 29.2\n",
            "\n",
            " ------------- \n",
            "\n",
            "Time for 750 iterations: 2.8636964480082194 mins\n",
            "Train Loss: 1.1698708534240723\n",
            "Evaluating model on 250 random 20 way one-shot learning tasks ... \n",
            "Got an average of 36.0% 20 way one-shot learning accuracy \n",
            "\n",
            "Current best: 36.0, previous best: 35.2\n",
            "\n",
            " ------------- \n",
            "\n",
            "Time for 1000 iterations: 3.813950792948405 mins\n",
            "Train Loss: 0.7753904461860657\n",
            "Evaluating model on 250 random 20 way one-shot learning tasks ... \n",
            "Got an average of 54.4% 20 way one-shot learning accuracy \n",
            "\n",
            "Current best: 54.4, previous best: 36.0\n",
            "\n",
            " ------------- \n",
            "\n",
            "Time for 1250 iterations: 4.762267621358236 mins\n",
            "Train Loss: 0.8664206266403198\n",
            "Evaluating model on 250 random 20 way one-shot learning tasks ... \n",
            "Got an average of 61.6% 20 way one-shot learning accuracy \n",
            "\n",
            "Current best: 61.6, previous best: 54.4\n",
            "\n",
            " ------------- \n",
            "\n",
            "Time for 1500 iterations: 5.713316206137339 mins\n",
            "Train Loss: 0.6171595454216003\n",
            "Evaluating model on 250 random 20 way one-shot learning tasks ... \n",
            "Got an average of 57.2% 20 way one-shot learning accuracy \n",
            "\n",
            "\n",
            " ------------- \n",
            "\n",
            "Time for 1750 iterations: 6.665395557880402 mins\n",
            "Train Loss: 0.418353408575058\n",
            "Evaluating model on 250 random 20 way one-shot learning tasks ... \n",
            "Got an average of 62.4% 20 way one-shot learning accuracy \n",
            "\n",
            "Current best: 62.4, previous best: 61.6\n",
            "\n",
            " ------------- \n",
            "\n",
            "Time for 2000 iterations: 7.62135789791743 mins\n",
            "Train Loss: 0.41432204842567444\n",
            "Evaluating model on 250 random 20 way one-shot learning tasks ... \n",
            "Got an average of 59.2% 20 way one-shot learning accuracy \n",
            "\n",
            "\n",
            " ------------- \n",
            "\n",
            "Time for 2250 iterations: 8.572361207008361 mins\n",
            "Train Loss: 0.49517425894737244\n",
            "Evaluating model on 250 random 20 way one-shot learning tasks ... \n",
            "Got an average of 66.4% 20 way one-shot learning accuracy \n",
            "\n",
            "Current best: 66.4, previous best: 62.4\n",
            "\n",
            " ------------- \n",
            "\n",
            "Time for 2500 iterations: 9.526397744814554 mins\n",
            "Train Loss: 0.4396896958351135\n",
            "Evaluating model on 250 random 20 way one-shot learning tasks ... \n",
            "Got an average of 67.6% 20 way one-shot learning accuracy \n",
            "\n",
            "Current best: 67.6, previous best: 66.4\n",
            "\n",
            " ------------- \n",
            "\n",
            "Time for 2750 iterations: 10.483371555805206 mins\n",
            "Train Loss: 0.3801160752773285\n",
            "Evaluating model on 250 random 20 way one-shot learning tasks ... \n",
            "Got an average of 65.2% 20 way one-shot learning accuracy \n",
            "\n",
            "\n",
            " ------------- \n",
            "\n",
            "Time for 3000 iterations: 11.42797048886617 mins\n",
            "Train Loss: 0.3791579008102417\n",
            "Evaluating model on 250 random 20 way one-shot learning tasks ... \n",
            "Got an average of 66.4% 20 way one-shot learning accuracy \n",
            "\n",
            "\n",
            " ------------- \n",
            "\n",
            "Time for 3250 iterations: 12.369763120015461 mins\n",
            "Train Loss: 0.33255133032798767\n",
            "Evaluating model on 250 random 20 way one-shot learning tasks ... \n",
            "Got an average of 66.8% 20 way one-shot learning accuracy \n",
            "\n",
            "\n",
            " ------------- \n",
            "\n",
            "Time for 3500 iterations: 13.313633739948273 mins\n",
            "Train Loss: 0.4580061435699463\n",
            "Evaluating model on 250 random 20 way one-shot learning tasks ... \n",
            "Got an average of 66.4% 20 way one-shot learning accuracy \n",
            "\n",
            "\n",
            " ------------- \n",
            "\n",
            "Time for 3750 iterations: 14.257194634278616 mins\n",
            "Train Loss: 0.3145054876804352\n",
            "Evaluating model on 250 random 20 way one-shot learning tasks ... \n",
            "Got an average of 69.6% 20 way one-shot learning accuracy \n",
            "\n",
            "Current best: 69.6, previous best: 67.6\n",
            "\n",
            " ------------- \n",
            "\n",
            "Time for 4000 iterations: 15.20729256470998 mins\n",
            "Train Loss: 0.3940141201019287\n",
            "Evaluating model on 250 random 20 way one-shot learning tasks ... \n",
            "Got an average of 75.2% 20 way one-shot learning accuracy \n",
            "\n",
            "Current best: 75.2, previous best: 69.6\n",
            "\n",
            " ------------- \n",
            "\n",
            "Time for 4250 iterations: 16.158165307839713 mins\n",
            "Train Loss: 0.3629312515258789\n",
            "Evaluating model on 250 random 20 way one-shot learning tasks ... \n",
            "Got an average of 69.2% 20 way one-shot learning accuracy \n",
            "\n",
            "\n",
            " ------------- \n",
            "\n",
            "Time for 4500 iterations: 17.10316857894262 mins\n",
            "Train Loss: 0.3253772556781769\n",
            "Evaluating model on 250 random 20 way one-shot learning tasks ... \n",
            "Got an average of 66.4% 20 way one-shot learning accuracy \n",
            "\n",
            "\n",
            " ------------- \n",
            "\n",
            "Time for 4750 iterations: 18.04515966574351 mins\n",
            "Train Loss: 0.27421921491622925\n",
            "Evaluating model on 250 random 20 way one-shot learning tasks ... \n",
            "Got an average of 74.0% 20 way one-shot learning accuracy \n",
            "\n",
            "\n",
            " ------------- \n",
            "\n",
            "Time for 5000 iterations: 18.988920044898986 mins\n",
            "Train Loss: 0.24614708125591278\n",
            "Evaluating model on 250 random 20 way one-shot learning tasks ... \n",
            "Got an average of 66.0% 20 way one-shot learning accuracy \n",
            "\n",
            "\n",
            " ------------- \n",
            "\n",
            "Time for 5250 iterations: 19.932664620876313 mins\n",
            "Train Loss: 0.3181026875972748\n",
            "Evaluating model on 250 random 20 way one-shot learning tasks ... \n",
            "Got an average of 70.8% 20 way one-shot learning accuracy \n",
            "\n",
            "\n",
            " ------------- \n",
            "\n",
            "Time for 5500 iterations: 20.87840501467387 mins\n",
            "Train Loss: 0.39225322008132935\n",
            "Evaluating model on 250 random 20 way one-shot learning tasks ... \n",
            "Got an average of 72.0% 20 way one-shot learning accuracy \n",
            "\n",
            "\n",
            " ------------- \n",
            "\n",
            "Time for 5750 iterations: 21.823436478773754 mins\n",
            "Train Loss: 0.26433131098747253\n",
            "Evaluating model on 250 random 20 way one-shot learning tasks ... \n",
            "Got an average of 71.6% 20 way one-shot learning accuracy \n",
            "\n",
            "\n",
            " ------------- \n",
            "\n",
            "Time for 6000 iterations: 22.771190841992695 mins\n",
            "Train Loss: 0.34713563323020935\n",
            "Evaluating model on 250 random 20 way one-shot learning tasks ... \n",
            "Got an average of 67.6% 20 way one-shot learning accuracy \n",
            "\n",
            "\n",
            " ------------- \n",
            "\n",
            "Time for 6250 iterations: 23.71599308649699 mins\n",
            "Train Loss: 0.24153679609298706\n",
            "Evaluating model on 250 random 20 way one-shot learning tasks ... \n",
            "Got an average of 72.4% 20 way one-shot learning accuracy \n",
            "\n",
            "\n",
            " ------------- \n",
            "\n",
            "Time for 6500 iterations: 24.663165426254274 mins\n",
            "Train Loss: 0.3805612623691559\n",
            "Evaluating model on 250 random 20 way one-shot learning tasks ... \n",
            "Got an average of 70.0% 20 way one-shot learning accuracy \n",
            "\n",
            "\n",
            " ------------- \n",
            "\n",
            "Time for 6750 iterations: 25.60781807899475 mins\n",
            "Train Loss: 0.25635474920272827\n",
            "Evaluating model on 250 random 20 way one-shot learning tasks ... \n",
            "Got an average of 74.4% 20 way one-shot learning accuracy \n",
            "\n",
            "\n",
            " ------------- \n",
            "\n",
            "Time for 7000 iterations: 26.552644177277884 mins\n",
            "Train Loss: 0.27115774154663086\n",
            "Evaluating model on 250 random 20 way one-shot learning tasks ... \n",
            "Got an average of 77.6% 20 way one-shot learning accuracy \n",
            "\n",
            "Current best: 77.6, previous best: 75.2\n",
            "\n",
            " ------------- \n",
            "\n",
            "Time for 7250 iterations: 27.50183213551839 mins\n",
            "Train Loss: 0.3654709458351135\n",
            "Evaluating model on 250 random 20 way one-shot learning tasks ... \n",
            "Got an average of 77.2% 20 way one-shot learning accuracy \n",
            "\n",
            "\n",
            " ------------- \n",
            "\n",
            "Time for 7500 iterations: 28.450121370951333 mins\n",
            "Train Loss: 0.3781600296497345\n",
            "Evaluating model on 250 random 20 way one-shot learning tasks ... \n",
            "Got an average of 72.0% 20 way one-shot learning accuracy \n",
            "\n",
            "\n",
            " ------------- \n",
            "\n",
            "Time for 7750 iterations: 29.398870428403217 mins\n",
            "Train Loss: 0.23353560268878937\n",
            "Evaluating model on 250 random 20 way one-shot learning tasks ... \n",
            "Got an average of 73.2% 20 way one-shot learning accuracy \n",
            "\n",
            "\n",
            " ------------- \n",
            "\n",
            "Time for 8000 iterations: 30.350313381354013 mins\n",
            "Train Loss: 0.2898407280445099\n",
            "Evaluating model on 250 random 20 way one-shot learning tasks ... \n",
            "Got an average of 72.0% 20 way one-shot learning accuracy \n",
            "\n",
            "\n",
            " ------------- \n",
            "\n",
            "Time for 8250 iterations: 31.301797004540763 mins\n",
            "Train Loss: 0.20683304965496063\n",
            "Evaluating model on 250 random 20 way one-shot learning tasks ... \n",
            "Got an average of 74.0% 20 way one-shot learning accuracy \n",
            "\n",
            "\n",
            " ------------- \n",
            "\n",
            "Time for 8500 iterations: 32.25228279034297 mins\n",
            "Train Loss: 0.3547336757183075\n",
            "Evaluating model on 250 random 20 way one-shot learning tasks ... \n",
            "Got an average of 71.2% 20 way one-shot learning accuracy \n",
            "\n",
            "\n",
            " ------------- \n",
            "\n",
            "Time for 8750 iterations: 33.20212600231171 mins\n",
            "Train Loss: 0.32086095213890076\n",
            "Evaluating model on 250 random 20 way one-shot learning tasks ... \n",
            "Got an average of 75.2% 20 way one-shot learning accuracy \n",
            "\n",
            "\n",
            " ------------- \n",
            "\n",
            "Time for 9000 iterations: 34.15260498523712 mins\n",
            "Train Loss: 0.32019856572151184\n",
            "Evaluating model on 250 random 20 way one-shot learning tasks ... \n",
            "Got an average of 72.8% 20 way one-shot learning accuracy \n",
            "\n",
            "\n",
            " ------------- \n",
            "\n",
            "Time for 9250 iterations: 35.10249809026718 mins\n",
            "Train Loss: 0.21914832293987274\n",
            "Evaluating model on 250 random 20 way one-shot learning tasks ... \n",
            "Got an average of 76.8% 20 way one-shot learning accuracy \n",
            "\n",
            "\n",
            " ------------- \n",
            "\n",
            "Time for 9500 iterations: 36.0512907187144 mins\n",
            "Train Loss: 0.23865105211734772\n",
            "Evaluating model on 250 random 20 way one-shot learning tasks ... \n",
            "Got an average of 74.4% 20 way one-shot learning accuracy \n",
            "\n",
            "\n",
            " ------------- \n",
            "\n",
            "Time for 9750 iterations: 36.99934525887171 mins\n",
            "Train Loss: 0.4087407886981964\n",
            "Evaluating model on 250 random 20 way one-shot learning tasks ... \n",
            "Got an average of 75.2% 20 way one-shot learning accuracy \n",
            "\n",
            "\n",
            " ------------- \n",
            "\n",
            "Time for 10000 iterations: 37.94770855903626 mins\n",
            "Train Loss: 0.21714594960212708\n",
            "Evaluating model on 250 random 20 way one-shot learning tasks ... \n",
            "Got an average of 71.2% 20 way one-shot learning accuracy \n",
            "\n",
            "-------------------------------------\n",
            "CPU times: user 17min 38s, sys: 10min 22s, total: 28min\n",
            "Wall time: 38min 5s\n"
          ],
          "name": "stdout"
        }
      ]
    },
    {
      "cell_type": "code",
      "metadata": {
        "id": "Uz9Hl0AjfduX",
        "colab_type": "code",
        "colab": {}
      },
      "source": [
        "model.compile(loss=\"binary_crossentropy\", optimizer=Adam(0.00001))"
      ],
      "execution_count": 0,
      "outputs": []
    },
    {
      "cell_type": "code",
      "metadata": {
        "id": "t2G-HsGFfkOF",
        "colab_type": "code",
        "colab": {
          "base_uri": "https://localhost:8080/",
          "height": 6007
        },
        "outputId": "5408314d-ade9-4ba4-8dc0-1b7855d8b95c"
      },
      "source": [
        "\n",
        "training_starts()"
      ],
      "execution_count": 50,
      "outputs": [
        {
          "output_type": "stream",
          "text": [
            "Starting training process!\n",
            "-------------------------------------\n",
            "\n",
            " ------------- \n",
            "\n",
            "Time for 250 iterations: 0.8605678160985311 mins\n",
            "Train Loss: 0.2445528507232666\n",
            "Evaluating model on 250 random 20 way one-shot learning tasks ... \n",
            "Got an average of 76.8% 20 way one-shot learning accuracy \n",
            "\n",
            "Current best: 76.8, previous best: -1\n",
            "\n",
            " ------------- \n",
            "\n",
            "Time for 500 iterations: 1.8079162160555522 mins\n",
            "Train Loss: 0.2148413211107254\n",
            "Evaluating model on 250 random 20 way one-shot learning tasks ... \n",
            "Got an average of 77.2% 20 way one-shot learning accuracy \n",
            "\n",
            "Current best: 77.2, previous best: 76.8\n",
            "\n",
            " ------------- \n",
            "\n",
            "Time for 750 iterations: 2.7542219320933023 mins\n",
            "Train Loss: 0.25423911213874817\n",
            "Evaluating model on 250 random 20 way one-shot learning tasks ... \n",
            "Got an average of 78.4% 20 way one-shot learning accuracy \n",
            "\n",
            "Current best: 78.4, previous best: 77.2\n",
            "\n",
            " ------------- \n",
            "\n",
            "Time for 1000 iterations: 3.7025930086771646 mins\n",
            "Train Loss: 0.3887113034725189\n",
            "Evaluating model on 250 random 20 way one-shot learning tasks ... \n",
            "Got an average of 80.0% 20 way one-shot learning accuracy \n",
            "\n",
            "Current best: 80.0, previous best: 78.4\n",
            "\n",
            " ------------- \n",
            "\n",
            "Time for 1250 iterations: 4.650605793793996 mins\n",
            "Train Loss: 0.2909136712551117\n",
            "Evaluating model on 250 random 20 way one-shot learning tasks ... \n",
            "Got an average of 80.4% 20 way one-shot learning accuracy \n",
            "\n",
            "Current best: 80.4, previous best: 80.0\n",
            "\n",
            " ------------- \n",
            "\n",
            "Time for 1500 iterations: 5.598595480124156 mins\n",
            "Train Loss: 0.19097135961055756\n",
            "Evaluating model on 250 random 20 way one-shot learning tasks ... \n",
            "Got an average of 78.8% 20 way one-shot learning accuracy \n",
            "\n",
            "\n",
            " ------------- \n",
            "\n",
            "Time for 1750 iterations: 6.545738919576009 mins\n",
            "Train Loss: 0.1632882058620453\n",
            "Evaluating model on 250 random 20 way one-shot learning tasks ... \n",
            "Got an average of 78.4% 20 way one-shot learning accuracy \n",
            "\n",
            "\n",
            " ------------- \n",
            "\n",
            "Time for 2000 iterations: 7.4971661766370135 mins\n",
            "Train Loss: 0.4213878810405731\n",
            "Evaluating model on 250 random 20 way one-shot learning tasks ... \n",
            "Got an average of 81.2% 20 way one-shot learning accuracy \n",
            "\n",
            "Current best: 81.2, previous best: 80.4\n",
            "\n",
            " ------------- \n",
            "\n",
            "Time for 2250 iterations: 8.449091808001201 mins\n",
            "Train Loss: 0.2623697519302368\n",
            "Evaluating model on 250 random 20 way one-shot learning tasks ... \n",
            "Got an average of 82.8% 20 way one-shot learning accuracy \n",
            "\n",
            "Current best: 82.8, previous best: 81.2\n",
            "\n",
            " ------------- \n",
            "\n",
            "Time for 2500 iterations: 9.402150022983552 mins\n",
            "Train Loss: 0.16041210293769836\n",
            "Evaluating model on 250 random 20 way one-shot learning tasks ... \n",
            "Got an average of 82.8% 20 way one-shot learning accuracy \n",
            "\n",
            "Current best: 82.8, previous best: 82.8\n",
            "\n",
            " ------------- \n",
            "\n",
            "Time for 2750 iterations: 10.35695151090622 mins\n",
            "Train Loss: 0.2426377385854721\n",
            "Evaluating model on 250 random 20 way one-shot learning tasks ... \n",
            "Got an average of 76.4% 20 way one-shot learning accuracy \n",
            "\n",
            "\n",
            " ------------- \n",
            "\n",
            "Time for 3000 iterations: 11.308699297904969 mins\n",
            "Train Loss: 0.24976351857185364\n",
            "Evaluating model on 250 random 20 way one-shot learning tasks ... \n",
            "Got an average of 84.8% 20 way one-shot learning accuracy \n",
            "\n",
            "Current best: 84.8, previous best: 82.8\n",
            "\n",
            " ------------- \n",
            "\n",
            "Time for 3250 iterations: 12.26220197280248 mins\n",
            "Train Loss: 0.1777808666229248\n",
            "Evaluating model on 250 random 20 way one-shot learning tasks ... \n",
            "Got an average of 83.6% 20 way one-shot learning accuracy \n",
            "\n",
            "\n",
            " ------------- \n",
            "\n",
            "Time for 3500 iterations: 13.212924285729725 mins\n",
            "Train Loss: 0.30883607268333435\n",
            "Evaluating model on 250 random 20 way one-shot learning tasks ... \n",
            "Got an average of 83.2% 20 way one-shot learning accuracy \n",
            "\n",
            "\n",
            " ------------- \n",
            "\n",
            "Time for 3750 iterations: 14.164744345347087 mins\n",
            "Train Loss: 0.18290244042873383\n",
            "Evaluating model on 250 random 20 way one-shot learning tasks ... \n",
            "Got an average of 80.4% 20 way one-shot learning accuracy \n",
            "\n",
            "\n",
            " ------------- \n",
            "\n",
            "Time for 4000 iterations: 15.11406317949295 mins\n",
            "Train Loss: 0.18650223314762115\n",
            "Evaluating model on 250 random 20 way one-shot learning tasks ... \n",
            "Got an average of 84.8% 20 way one-shot learning accuracy \n",
            "\n",
            "Current best: 84.8, previous best: 84.8\n",
            "\n",
            " ------------- \n",
            "\n",
            "Time for 4250 iterations: 16.06690394083659 mins\n",
            "Train Loss: 0.14729751646518707\n",
            "Evaluating model on 250 random 20 way one-shot learning tasks ... \n",
            "Got an average of 82.4% 20 way one-shot learning accuracy \n",
            "\n",
            "\n",
            " ------------- \n",
            "\n",
            "Time for 4500 iterations: 17.01550529797872 mins\n",
            "Train Loss: 0.14927197992801666\n",
            "Evaluating model on 250 random 20 way one-shot learning tasks ... \n",
            "Got an average of 80.0% 20 way one-shot learning accuracy \n",
            "\n",
            "\n",
            " ------------- \n",
            "\n",
            "Time for 4750 iterations: 17.963427805900572 mins\n",
            "Train Loss: 0.19506680965423584\n",
            "Evaluating model on 250 random 20 way one-shot learning tasks ... \n",
            "Got an average of 79.6% 20 way one-shot learning accuracy \n",
            "\n",
            "\n",
            " ------------- \n",
            "\n",
            "Time for 5000 iterations: 18.913981743653615 mins\n",
            "Train Loss: 0.14679092168807983\n",
            "Evaluating model on 250 random 20 way one-shot learning tasks ... \n",
            "Got an average of 84.4% 20 way one-shot learning accuracy \n",
            "\n",
            "\n",
            " ------------- \n",
            "\n",
            "Time for 5250 iterations: 19.8638201157252 mins\n",
            "Train Loss: 0.13778865337371826\n",
            "Evaluating model on 250 random 20 way one-shot learning tasks ... \n",
            "Got an average of 84.4% 20 way one-shot learning accuracy \n",
            "\n",
            "\n",
            " ------------- \n",
            "\n",
            "Time for 5500 iterations: 20.813737543423972 mins\n",
            "Train Loss: 0.17248013615608215\n",
            "Evaluating model on 250 random 20 way one-shot learning tasks ... \n",
            "Got an average of 83.2% 20 way one-shot learning accuracy \n",
            "\n",
            "\n",
            " ------------- \n",
            "\n",
            "Time for 5750 iterations: 21.762239102522532 mins\n",
            "Train Loss: 0.192445307970047\n",
            "Evaluating model on 250 random 20 way one-shot learning tasks ... \n",
            "Got an average of 84.8% 20 way one-shot learning accuracy \n",
            "\n",
            "Current best: 84.8, previous best: 84.8\n",
            "\n",
            " ------------- \n",
            "\n",
            "Time for 6000 iterations: 22.718248991171517 mins\n",
            "Train Loss: 0.27792930603027344\n",
            "Evaluating model on 250 random 20 way one-shot learning tasks ... \n",
            "Got an average of 84.4% 20 way one-shot learning accuracy \n",
            "\n",
            "\n",
            " ------------- \n",
            "\n",
            "Time for 6250 iterations: 23.667955644925435 mins\n",
            "Train Loss: 0.19139647483825684\n",
            "Evaluating model on 250 random 20 way one-shot learning tasks ... \n",
            "Got an average of 86.0% 20 way one-shot learning accuracy \n",
            "\n",
            "Current best: 86.0, previous best: 84.8\n",
            "\n",
            " ------------- \n",
            "\n",
            "Time for 6500 iterations: 24.624705163637795 mins\n",
            "Train Loss: 0.14564242959022522\n",
            "Evaluating model on 250 random 20 way one-shot learning tasks ... \n",
            "Got an average of 80.8% 20 way one-shot learning accuracy \n",
            "\n",
            "\n",
            " ------------- \n",
            "\n",
            "Time for 6750 iterations: 25.57616084019343 mins\n",
            "Train Loss: 0.16523241996765137\n",
            "Evaluating model on 250 random 20 way one-shot learning tasks ... \n",
            "Got an average of 86.0% 20 way one-shot learning accuracy \n",
            "\n",
            "Current best: 86.0, previous best: 86.0\n",
            "\n",
            " ------------- \n",
            "\n",
            "Time for 7000 iterations: 26.543586337566374 mins\n",
            "Train Loss: 0.20268239080905914\n",
            "Evaluating model on 250 random 20 way one-shot learning tasks ... \n",
            "Got an average of 81.6% 20 way one-shot learning accuracy \n",
            "\n",
            "\n",
            " ------------- \n",
            "\n",
            "Time for 7250 iterations: 27.49366593758265 mins\n",
            "Train Loss: 0.1392715722322464\n",
            "Evaluating model on 250 random 20 way one-shot learning tasks ... \n",
            "Got an average of 85.2% 20 way one-shot learning accuracy \n",
            "\n",
            "\n",
            " ------------- \n",
            "\n",
            "Time for 7500 iterations: 28.44319457213084 mins\n",
            "Train Loss: 0.1519681066274643\n",
            "Evaluating model on 250 random 20 way one-shot learning tasks ... \n",
            "Got an average of 85.6% 20 way one-shot learning accuracy \n",
            "\n",
            "\n",
            " ------------- \n",
            "\n",
            "Time for 7750 iterations: 29.39127200047175 mins\n",
            "Train Loss: 0.13394033908843994\n",
            "Evaluating model on 250 random 20 way one-shot learning tasks ... \n",
            "Got an average of 82.8% 20 way one-shot learning accuracy \n",
            "\n",
            "\n",
            " ------------- \n",
            "\n",
            "Time for 8000 iterations: 30.340404558181763 mins\n",
            "Train Loss: 0.14694301784038544\n",
            "Evaluating model on 250 random 20 way one-shot learning tasks ... \n",
            "Got an average of 84.4% 20 way one-shot learning accuracy \n",
            "\n",
            "\n",
            " ------------- \n",
            "\n",
            "Time for 8250 iterations: 31.288699106375375 mins\n",
            "Train Loss: 0.15242013335227966\n",
            "Evaluating model on 250 random 20 way one-shot learning tasks ... \n",
            "Got an average of 80.4% 20 way one-shot learning accuracy \n",
            "\n",
            "\n",
            " ------------- \n",
            "\n",
            "Time for 8500 iterations: 32.23832925955455 mins\n",
            "Train Loss: 0.1357828974723816\n",
            "Evaluating model on 250 random 20 way one-shot learning tasks ... \n",
            "Got an average of 78.8% 20 way one-shot learning accuracy \n",
            "\n",
            "\n",
            " ------------- \n",
            "\n",
            "Time for 8750 iterations: 33.18620163997014 mins\n",
            "Train Loss: 0.18841984868049622\n",
            "Evaluating model on 250 random 20 way one-shot learning tasks ... \n",
            "Got an average of 82.0% 20 way one-shot learning accuracy \n",
            "\n",
            "\n",
            " ------------- \n",
            "\n",
            "Time for 9000 iterations: 34.135077293713884 mins\n",
            "Train Loss: 0.14434891939163208\n",
            "Evaluating model on 250 random 20 way one-shot learning tasks ... \n",
            "Got an average of 86.0% 20 way one-shot learning accuracy \n",
            "\n",
            "Current best: 86.0, previous best: 86.0\n",
            "\n",
            " ------------- \n",
            "\n",
            "Time for 9250 iterations: 35.09275875488917 mins\n",
            "Train Loss: 0.14024436473846436\n",
            "Evaluating model on 250 random 20 way one-shot learning tasks ... \n",
            "Got an average of 80.8% 20 way one-shot learning accuracy \n",
            "\n",
            "\n",
            " ------------- \n",
            "\n",
            "Time for 9500 iterations: 36.04428683121999 mins\n",
            "Train Loss: 0.12914712727069855\n",
            "Evaluating model on 250 random 20 way one-shot learning tasks ... \n",
            "Got an average of 83.2% 20 way one-shot learning accuracy \n",
            "\n",
            "\n",
            " ------------- \n",
            "\n",
            "Time for 9750 iterations: 36.9968812028567 mins\n",
            "Train Loss: 0.13981638848781586\n",
            "Evaluating model on 250 random 20 way one-shot learning tasks ... \n",
            "Got an average of 82.0% 20 way one-shot learning accuracy \n",
            "\n",
            "\n",
            " ------------- \n",
            "\n",
            "Time for 10000 iterations: 37.9484193722407 mins\n",
            "Train Loss: 0.14298968017101288\n",
            "Evaluating model on 250 random 20 way one-shot learning tasks ... \n",
            "Got an average of 81.6% 20 way one-shot learning accuracy \n",
            "\n",
            "-------------------------------------\n"
          ],
          "name": "stdout"
        }
      ]
    },
    {
      "cell_type": "code",
      "metadata": {
        "id": "g4ZbMq_Wfn2Y",
        "colab_type": "code",
        "colab": {}
      },
      "source": [
        "model.load_weights(os.path.join(model_path, \"weights.82.8.h5\"))"
      ],
      "execution_count": 0,
      "outputs": []
    },
    {
      "cell_type": "code",
      "metadata": {
        "id": "ggegrjp2ftvk",
        "colab_type": "code",
        "colab": {}
      },
      "source": [
        "def nearest_neighbour_correct(pairs,targets):\n",
        "    \"\"\"returns 1 if nearest neighbour gets the correct answer for a one-shot task\n",
        "        given by (pairs, targets)\"\"\"\n",
        "    L2_distances = np.zeros_like(targets)\n",
        "    for i in range(len(targets)):\n",
        "        L2_distances[i] = np.sum(np.sqrt(pairs[0][i]**2 - pairs[1][i]**2))\n",
        "    if np.argmin(L2_distances) == np.argmax(targets):\n",
        "        return 1\n",
        "    return 0\n",
        "\n",
        "\n",
        "def test_nn_accuracy(N_ways,n_trials):\n",
        "    \"\"\"Returns accuracy of NN approach \"\"\"\n",
        "    print(\"Evaluating nearest neighbour on {} unique {} way one-shot learning tasks ...\".format(n_trials,N_ways))\n",
        "\n",
        "    n_right = 0\n",
        "    \n",
        "    for i in range(n_trials):\n",
        "        pairs,targets = make_oneshot_task(N_ways,\"val\")\n",
        "        correct = nearest_neighbour_correct(pairs,targets)\n",
        "        n_right += correct\n",
        "    return 100.0 * n_right / n_trials"
      ],
      "execution_count": 0,
      "outputs": []
    },
    {
      "cell_type": "code",
      "metadata": {
        "id": "oigDXfZCfyqz",
        "colab_type": "code",
        "colab": {}
      },
      "source": [
        "ways = np.arange(1,20,2)\n",
        "resume =  False\n",
        "trials = 50"
      ],
      "execution_count": 0,
      "outputs": []
    },
    {
      "cell_type": "code",
      "metadata": {
        "id": "RWO2H8blf07_",
        "colab_type": "code",
        "colab": {
          "base_uri": "https://localhost:8080/",
          "height": 1616
        },
        "outputId": "9c09c0bc-0dde-465c-9a01-2cfd61fd6ba7"
      },
      "source": [
        "val_accs, train_accs,nn_accs = [], [], []\n",
        "for N in ways:    \n",
        "    val_accs.append(test_oneshot(model, N, trials, \"val\", verbose=True))\n",
        "    train_accs.append(test_oneshot(model, N, trials, \"train\", verbose=True))\n",
        "    nn_acc = test_nn_accuracy(N, trials)\n",
        "    nn_accs.append(nn_acc)\n",
        "    print (\"NN Accuracy = \", nn_acc)\n",
        "    print(\"-----------------------------------------------------------------------------------\")"
      ],
      "execution_count": 54,
      "outputs": [
        {
          "output_type": "stream",
          "text": [
            "Evaluating model on 50 random 1 way one-shot learning tasks ... \n",
            "Got an average of 100.0% 1 way one-shot learning accuracy \n",
            "\n",
            "Evaluating model on 50 random 1 way one-shot learning tasks ... \n",
            "Got an average of 100.0% 1 way one-shot learning accuracy \n",
            "\n",
            "Evaluating nearest neighbour on 50 unique 1 way one-shot learning tasks ...\n",
            "NN Accuracy =  100.0\n",
            "-----------------------------------------------------------------------------------\n",
            "Evaluating model on 50 random 3 way one-shot learning tasks ... \n",
            "Got an average of 98.0% 3 way one-shot learning accuracy \n",
            "\n",
            "Evaluating model on 50 random 3 way one-shot learning tasks ... \n",
            "Got an average of 98.0% 3 way one-shot learning accuracy \n",
            "\n",
            "Evaluating nearest neighbour on 50 unique 3 way one-shot learning tasks ...\n",
            "NN Accuracy =  54.0\n",
            "-----------------------------------------------------------------------------------\n",
            "Evaluating model on 50 random 5 way one-shot learning tasks ... \n",
            "Got an average of 96.0% 5 way one-shot learning accuracy \n",
            "\n",
            "Evaluating model on 50 random 5 way one-shot learning tasks ... \n",
            "Got an average of 98.0% 5 way one-shot learning accuracy \n",
            "\n",
            "Evaluating nearest neighbour on 50 unique 5 way one-shot learning tasks ...\n",
            "NN Accuracy =  32.0\n",
            "-----------------------------------------------------------------------------------\n",
            "Evaluating model on 50 random 7 way one-shot learning tasks ... \n",
            "Got an average of 88.0% 7 way one-shot learning accuracy \n",
            "\n",
            "Evaluating model on 50 random 7 way one-shot learning tasks ... \n",
            "Got an average of 98.0% 7 way one-shot learning accuracy \n",
            "\n",
            "Evaluating nearest neighbour on 50 unique 7 way one-shot learning tasks ...\n",
            "NN Accuracy =  46.0\n",
            "-----------------------------------------------------------------------------------\n",
            "Evaluating model on 50 random 9 way one-shot learning tasks ... \n",
            "Got an average of 88.0% 9 way one-shot learning accuracy \n",
            "\n",
            "Evaluating model on 50 random 9 way one-shot learning tasks ... \n",
            "Got an average of 96.0% 9 way one-shot learning accuracy \n",
            "\n",
            "Evaluating nearest neighbour on 50 unique 9 way one-shot learning tasks ...\n",
            "NN Accuracy =  24.0\n",
            "-----------------------------------------------------------------------------------\n",
            "Evaluating model on 50 random 11 way one-shot learning tasks ... \n",
            "Got an average of 84.0% 11 way one-shot learning accuracy \n",
            "\n",
            "Evaluating model on 50 random 11 way one-shot learning tasks ... \n",
            "Got an average of 96.0% 11 way one-shot learning accuracy \n",
            "\n",
            "Evaluating nearest neighbour on 50 unique 11 way one-shot learning tasks ...\n",
            "NN Accuracy =  38.0\n",
            "-----------------------------------------------------------------------------------\n",
            "Evaluating model on 50 random 13 way one-shot learning tasks ... \n",
            "Got an average of 90.0% 13 way one-shot learning accuracy \n",
            "\n",
            "Evaluating model on 50 random 13 way one-shot learning tasks ... \n",
            "Got an average of 96.0% 13 way one-shot learning accuracy \n",
            "\n",
            "Evaluating nearest neighbour on 50 unique 13 way one-shot learning tasks ...\n",
            "NN Accuracy =  22.0\n",
            "-----------------------------------------------------------------------------------\n",
            "Evaluating model on 50 random 15 way one-shot learning tasks ... \n",
            "Got an average of 76.0% 15 way one-shot learning accuracy \n",
            "\n",
            "Evaluating model on 50 random 15 way one-shot learning tasks ... \n",
            "Got an average of 96.0% 15 way one-shot learning accuracy \n",
            "\n",
            "Evaluating nearest neighbour on 50 unique 15 way one-shot learning tasks ...\n",
            "NN Accuracy =  30.0\n",
            "-----------------------------------------------------------------------------------\n",
            "Evaluating model on 50 random 17 way one-shot learning tasks ... \n",
            "Got an average of 76.0% 17 way one-shot learning accuracy \n",
            "\n",
            "Evaluating model on 50 random 17 way one-shot learning tasks ... \n",
            "Got an average of 98.0% 17 way one-shot learning accuracy \n",
            "\n",
            "Evaluating nearest neighbour on 50 unique 17 way one-shot learning tasks ...\n",
            "NN Accuracy =  26.0\n",
            "-----------------------------------------------------------------------------------\n",
            "Evaluating model on 50 random 19 way one-shot learning tasks ... \n",
            "Got an average of 90.0% 19 way one-shot learning accuracy \n",
            "\n",
            "Evaluating model on 50 random 19 way one-shot learning tasks ... \n",
            "Got an average of 94.0% 19 way one-shot learning accuracy \n",
            "\n",
            "Evaluating nearest neighbour on 50 unique 19 way one-shot learning tasks ...\n",
            "NN Accuracy =  22.0\n",
            "-----------------------------------------------------------------------------------\n"
          ],
          "name": "stdout"
        }
      ]
    },
    {
      "cell_type": "code",
      "metadata": {
        "id": "tbvQ6mGrf3W9",
        "colab_type": "code",
        "colab": {}
      },
      "source": [
        ""
      ],
      "execution_count": 0,
      "outputs": []
    },
    {
      "cell_type": "markdown",
      "metadata": {
        "id": "qO7Pn4zzf6QU",
        "colab_type": "text"
      },
      "source": [
        "## Save the accuracies on disk, then loaded"
      ]
    },
    {
      "cell_type": "code",
      "metadata": {
        "id": "bVf7C04nf9Ip",
        "colab_type": "code",
        "colab": {}
      },
      "source": [
        "with open(os.path.join(save_path,\"accuracies.pickle\"), \"wb\") as f:\n",
        "    pickle.dump((val_accs,train_accs,nn_accs),f)\n",
        "    \n",
        "    \n",
        "with open(os.path.join(save_path, \"accuracies.pickle\"), \"rb\") as f:\n",
        "    (val_accs, train_accs, nn_accs) = pickle.load(f)"
      ],
      "execution_count": 0,
      "outputs": []
    },
    {
      "cell_type": "code",
      "metadata": {
        "id": "GJSwnitsf_Kw",
        "colab_type": "code",
        "colab": {}
      },
      "source": [
        "def concat_images(X):\n",
        "    \"\"\"Concatenates a bunch of images into a big matrix for plotting purposes.\"\"\"\n",
        "    nc, h , w, _ = X.shape\n",
        "    X = X.reshape(nc, h, w)\n",
        "    n = np.ceil(np.sqrt(nc)).astype(\"int8\")\n",
        "    img = np.zeros((n*w,n*h))\n",
        "    x = 0\n",
        "    y = 0\n",
        "    for example in range(nc):\n",
        "        img[x*w:(x+1)*w,y*h:(y+1)*h] = X[example]\n",
        "        y += 1\n",
        "        if y >= n:\n",
        "            y = 0\n",
        "            x += 1\n",
        "    return img\n",
        "\n",
        "\n",
        "def plot_oneshot_task(pairs):\n",
        "    fig,(ax1,ax2) = plt.subplots(nrows=1, ncols=2)\n",
        "    ax1.matshow(pairs[0][0].reshape(105,105), cmap='gray')\n",
        "    img = concat_images(pairs[1])\n",
        "    ax1.get_yaxis().set_visible(False)\n",
        "    ax1.get_xaxis().set_visible(False)\n",
        "    ax2.matshow(img,cmap='gray')\n",
        "    plt.xticks([])\n",
        "    plt.yticks([])\n",
        "    plt.show()"
      ],
      "execution_count": 0,
      "outputs": []
    },
    {
      "cell_type": "code",
      "metadata": {
        "id": "ZDtQw546gBzy",
        "colab_type": "code",
        "colab": {
          "base_uri": "https://localhost:8080/",
          "height": 190
        },
        "outputId": "27f79b7c-6f06-4350-b32c-70772fba229d"
      },
      "source": [
        "# Example of concat image visualization\n",
        "pairs, targets = make_oneshot_task(16, \"train\", \"Sanskrit\")\n",
        "plot_oneshot_task(pairs)"
      ],
      "execution_count": 57,
      "outputs": [
        {
          "output_type": "display_data",
          "data": {
            "image/png": "[encoded data removed]",
            "text/plain": [
              "<Figure size 432x288 with 2 Axes>"
            ]
          },
          "metadata": {
            "tags": []
          }
        }
      ]
    },
    {
      "cell_type": "code",
      "metadata": {
        "id": "Pz43Q-zcgEca",
        "colab_type": "code",
        "colab": {
          "base_uri": "https://localhost:8080/",
          "height": 190
        },
        "outputId": "a2ede818-8b6e-4499-dbbb-70f052aa8caa"
      },
      "source": [
        "# Example of concat image visualization\n",
        "pairs, targets = make_oneshot_task(16, \"val\", \"Oriya\")\n",
        "plot_oneshot_task(pairs)"
      ],
      "execution_count": 58,
      "outputs": [
        {
          "output_type": "display_data",
          "data": {
            "image/png": "[encoded data removed]",
            "text/plain": [
              "<Figure size 432x288 with 2 Axes>"
            ]
          },
          "metadata": {
            "tags": []
          }
        }
      ]
    },
    {
      "cell_type": "code",
      "metadata": {
        "id": "9uC6Y5afgGpC",
        "colab_type": "code",
        "colab": {}
      },
      "source": [
        ""
      ],
      "execution_count": 0,
      "outputs": []
    },
    {
      "cell_type": "markdown",
      "metadata": {
        "id": "zBzWmRqAgI-1",
        "colab_type": "text"
      },
      "source": [
        "## Result"
      ]
    },
    {
      "cell_type": "code",
      "metadata": {
        "id": "DG3XFpJ9gKT_",
        "colab_type": "code",
        "colab": {
          "base_uri": "https://localhost:8080/",
          "height": 467
        },
        "outputId": "4f98e4a7-a78f-4da3-a03f-f13b4dd72587"
      },
      "source": [
        "fig,ax = plt.subplots(1)\n",
        "ax.plot(ways, val_accs, \"m\", label=\"Siamese(val set)\")\n",
        "ax.plot(ways, train_accs, \"y\", label=\"Siamese(train set)\")\n",
        "plt.plot(ways, nn_accs, label=\"Nearest neighbour\")\n",
        "\n",
        "ax.plot(ways, 100.0/ways, \"g\", label=\"Random guessing\")\n",
        "plt.xlabel(\"Number of possible classes in one-shot tasks\")\n",
        "plt.ylabel(\"% Accuracy\")\n",
        "plt.title(\"Omiglot One-Shot Learning Performance of a Siamese Network\")\n",
        "box = ax.get_position()\n",
        "ax.set_position([box.x0, box.y0, box.width * 0.8, box.height])\n",
        "ax.legend(loc='center left', bbox_to_anchor=(1, 0.5))\n",
        "\n",
        "inputs,targets = make_oneshot_task(20, \"val\", 'Oriya')\n",
        "plt.show()\n",
        "\n",
        "plot_oneshot_task(inputs)"
      ],
      "execution_count": 59,
      "outputs": [
        {
          "output_type": "display_data",
          "data": {
            "image/png": "[encoded data removed]",
            "text/plain": [
              "<Figure size 432x288 with 1 Axes>"
            ]
          },
          "metadata": {
            "tags": []
          }
        },
        {
          "output_type": "display_data",
          "data": {
            "image/png": "[encoded data removed]",
            "text/plain": [
              "<Figure size 432x288 with 2 Axes>"
            ]
          },
          "metadata": {
            "tags": []
          }
        }
      ]
    },
    {
      "cell_type": "code",
      "metadata": {
        "id": "V-0YFdQ6gPO_",
        "colab_type": "code",
        "colab": {}
      },
      "source": [
        ""
      ],
      "execution_count": 0,
      "outputs": []
    }
  ]
}